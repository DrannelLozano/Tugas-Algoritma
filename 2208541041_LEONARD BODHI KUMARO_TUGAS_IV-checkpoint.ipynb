{
 "cells": [
  {
   "cell_type": "markdown",
   "id": "09348ae5",
   "metadata": {},
   "source": [
    "# 5.11 While Loop"
   ]
  },
  {
   "cell_type": "code",
   "execution_count": null,
   "id": "8f642c49",
   "metadata": {},
   "outputs": [],
   "source": [
    "############################################\n",
    "Mencetak nilai menggunakan While loop\n",
    "############################################"
   ]
  },
  {
   "cell_type": "code",
   "execution_count": 2,
   "id": "cc96b101",
   "metadata": {},
   "outputs": [
    {
     "name": "stdout",
     "output_type": "stream",
     "text": [
      "10\n",
      "1\n",
      "0\n",
      "0\n",
      "1\n",
      "2\n",
      "3\n",
      "4\n",
      "5\n",
      "6\n",
      "7\n",
      "8\n",
      "9\n",
      "10\n"
     ]
    }
   ],
   "source": [
    "# mencoba mencetak nilai a,x,y, dan s dengan kondisi syarat berikut ini: \n",
    "a = 0\n",
    "while a< 9:\n",
    "    a = a**3\n",
    "    a = a+2\n",
    "print(a)\n",
    "x = 2\n",
    "while x >= 2:\n",
    "    y = x^2\n",
    "    x = x-1\n",
    "print(x)\n",
    "print(y)\n",
    "s = 0\n",
    "while s >= 2:\n",
    "    t = s^2\n",
    "    s = s-1\n",
    "print(s)\n",
    "# mencoba mencetak angka dari 1 hingga 10 menggunakan while loop\n",
    "no = 1\n",
    "\n",
    "while no <= 10:\n",
    "    print(no)\n",
    "    no += 1\n",
    "# kode akan selalu dijalankan berulang selama syarat whilenya true\n",
    "# dan berhenti apabila syarat whilenya false"
   ]
  },
  {
   "cell_type": "markdown",
   "id": "adc64646",
   "metadata": {},
   "source": [
    "# 5.12 List di Python"
   ]
  },
  {
   "cell_type": "code",
   "execution_count": null,
   "id": "2a302f89",
   "metadata": {},
   "outputs": [],
   "source": [
    "############################################\n",
    "Mengenal berbagai macam List di Python\n",
    "############################################"
   ]
  },
  {
   "cell_type": "code",
   "execution_count": 4,
   "id": "d4ace92d",
   "metadata": {},
   "outputs": [
    {
     "name": "stdout",
     "output_type": "stream",
     "text": [
      "1\n",
      "empat\n",
      "[1, 2, 3, 'empat', 'lima', 6]\n",
      "[1, 2, 3, 'lima', 6]\n",
      "5\n",
      "[1, 2, 3, 4, 5]\n",
      "[1, 2, 3, 'empat', 'lima', 'enam']\n"
     ]
    }
   ],
   "source": [
    "# list kebanyakan digunakan untuk mengola data seerti berikut ini:\n",
    "vektor_1 = [1,2,3,4]\n",
    "vektor_2 = [5,6,7,8]\n",
    "vektor = vektor_1 + vektor_2\n",
    "vektor\n",
    "############################################\n",
    "# list bisa berubah string dan juga angka\n",
    "# contoh memanggil data\n",
    "data = [1, 2, 3, 'empat', 'lima']\n",
    "############################################\n",
    "print(data[0]) \n",
    "# 1\n",
    "print(data[3])\n",
    "# empat\n",
    "############################################\n",
    "# contoh menambah data\n",
    "data.append(6)\n",
    "print(data)\n",
    "# [1, 2, 3, 'empat', 'lima', 6]\n",
    "############################################\n",
    "# contoh mengremove data\n",
    "data.remove('empat')\n",
    "print(data) \n",
    "# [1, 2, 3, 'lima']\n",
    "############################################\n",
    "# contoh menghitung jumlah data\n",
    "print(len(data)) \n",
    "# 5\n",
    "############################################\n",
    "# contoh mengurutkan data\n",
    "dataa = [3, 1, 5, 2, 4]\n",
    "dataa.sort()\n",
    "print(dataa) \n",
    "# Output: [1, 2, 3, 4, 5]\n",
    "############################################\n",
    "# contoh menggabungkan dua buah data\n",
    "data1 = [1, 2, 3]\n",
    "data2 = ['empat', 'lima', 'enam']\n",
    "data1_2 = data1 + data2\n",
    "print(data1_2) \n",
    "# Output: [1, 2, 3, 'empat', 'lima', 'enam']\n",
    "############################################"
   ]
  },
  {
   "cell_type": "markdown",
   "id": "7fbb3b2f",
   "metadata": {},
   "source": [
    "# 5.13 Metoda List"
   ]
  },
  {
   "cell_type": "code",
   "execution_count": null,
   "id": "a7fbf81c",
   "metadata": {},
   "outputs": [],
   "source": [
    "############################################\n",
    "Mencetak data menggunakan metoda list\n",
    "############################################"
   ]
  },
  {
   "cell_type": "code",
   "execution_count": 6,
   "id": "8dcf956f",
   "metadata": {},
   "outputs": [
    {
     "name": "stdout",
     "output_type": "stream",
     "text": [
      "['Rian', 'Dika', 'Fatur', 'Rochim', 'Ika', 'Agus']\n",
      "['Agus', 'Rian', 'Dika', 'Fatur', 'Rochim', 'Ika']\n",
      "['Rian', 'Dika', 'Fatur', 'Rochim']\n",
      "True\n",
      "False\n",
      "4\n"
     ]
    }
   ],
   "source": [
    "# contoh penambahan nama di bagian belakang\n",
    "nama_41 = ['Rian', 'Dika', 'Fatur', 'Rochim', 'Ika']\n",
    "nama_41.append('Agus')\n",
    "print(nama_41)\n",
    "# contoh Penambahan nama di bagian depan\n",
    "nama_41 = ['Rian', 'Dika', 'Fatur', 'Rochim', 'Ika']\n",
    "nama_41.insert(0,'Agus')\n",
    "print(nama_41)\n",
    "# contoh menghapus nama di dalam data\n",
    "nama_41 = ['Rian', 'Dika', 'Fatur', 'Rochim', 'Ika']\n",
    "nama_41.remove('Ika')\n",
    "print(nama_41)\n",
    "# contoh mengecek apakah ada nama dika dalam data\n",
    "print('Dika' in nama_41)\n",
    "# contoh mengecek apakah ada nama alif dalam data\n",
    "print('Alif' in nama_41)\n",
    "# mengetahui jumlah nama dalam data\n",
    "print(len(nama_41))\n",
    "############################################\n",
    "#karena list merupakan objek, maka keberadaannya dapat dimanipulasi dengan menambahkan atau menghilangkan isi nya.\n",
    "############################################"
   ]
  },
  {
   "cell_type": "markdown",
   "id": "a0f725a0",
   "metadata": {},
   "source": [
    "# 5.14 For Loop"
   ]
  },
  {
   "cell_type": "code",
   "execution_count": null,
   "id": "e62592a0",
   "metadata": {},
   "outputs": [],
   "source": [
    "############################################\n",
    "Memanggil semua isi list dengan for loop\n",
    "############################################"
   ]
  },
  {
   "cell_type": "code",
   "execution_count": 8,
   "id": "326fbe6d",
   "metadata": {},
   "outputs": [
    {
     "name": "stdout",
     "output_type": "stream",
     "text": [
      "manggis\n",
      "durian\n",
      "jeruk\n",
      "jambu\n",
      "manggis\n",
      "durian\n",
      "jeruk\n",
      "jambu\n",
      "21\n"
     ]
    }
   ],
   "source": [
    "# mencoba menampilkan isi list yang ada pada data \"buah\"\n",
    "buah = ['manggis', 'durian', 'jeruk', 'jambu']\n",
    "for jenis in buah:\n",
    "    print(jenis)\n",
    "i = 0\n",
    "# dengan kode yang berbeda tetapi menghasilkan output yang sama\n",
    "while i < len(buah):\n",
    "    print(buah[i])\n",
    "    i+=1\n",
    "# menghitung total dari semua elemen dalam suatu list \n",
    "mata_dadu = [1, 2, 3, 4, 5, 6]\n",
    "total = 0\n",
    "for number in mata_dadu:\n",
    "    total += number\n",
    "print(total)"
   ]
  },
  {
   "cell_type": "markdown",
   "id": "0de6189f",
   "metadata": {},
   "source": [
    "# 5.15 Fungsi Range"
   ]
  },
  {
   "cell_type": "code",
   "execution_count": null,
   "id": "aca473ea",
   "metadata": {},
   "outputs": [],
   "source": [
    "############################################\n",
    "Mencoba mencetak keluaran menggunakan fungsi range\n",
    "############################################"
   ]
  },
  {
   "cell_type": "code",
   "execution_count": 13,
   "id": "f9292e50",
   "metadata": {},
   "outputs": [
    {
     "name": "stdout",
     "output_type": "stream",
     "text": [
      "manggis\n",
      "durian\n",
      "jeruk\n",
      "jambu\n",
      "1\n",
      "2\n",
      "3\n",
      "4\n",
      "5\n",
      "6\n",
      "7\n",
      "8\n",
      "9\n",
      "1\n",
      "3\n",
      "5\n",
      "7\n",
      "9\n",
      "0\n",
      "1\n",
      "2\n",
      "3\n",
      "4\n",
      "Nilai terbesar Ujian Algoritma dan Struktur Data adalah: 96\n"
     ]
    }
   ],
   "source": [
    "# menampilkan isi list yang ada pada data \"buah\"\n",
    "for i in range(len(buah)):\n",
    "    print(buah[i])\n",
    "# Output: manggis\n",
    "#durian\n",
    "#jeruk\n",
    "#jambu\n",
    "############################################\n",
    "# menggunakan range untuk menghasilkan urutan angka   \n",
    "for i in range(1, 10):\n",
    "    print(i)\n",
    "# Output: 1\n",
    "#2\n",
    "#3\n",
    "#4\n",
    "#5\n",
    "#6\n",
    "#7\n",
    "#8\n",
    "#9\n",
    "############################################\n",
    "# menggunakan range dengan increment   \n",
    "for i in range(1, 10, 2):\n",
    "    print(i)\n",
    "# Output: 1\n",
    "#3\n",
    "#5\n",
    "#7\n",
    "#9\n",
    "############################################\n",
    "# menggunakan range dengan batas tertentu      \n",
    "for i in range(5):\n",
    "    print(i)\n",
    "# Output: 0\n",
    "#1\n",
    "#2\n",
    "#3\n",
    "#4\n",
    "############################################\n",
    "# menggunakan range dengan nilai awal dan nilai akhir yang sama   \n",
    "for i in range(2, 2):\n",
    "    print(i)\n",
    "# Output: (tidak ada)\n",
    "############################################\n",
    "# buat program mencari nilai terbesar dalam suatu list\n",
    "nilai_mtk = [78, 89, 68, 77, 96, 85]\n",
    "# inisialisasi nilai terbesar\n",
    "terbesar = nilai_mtk[0]\n",
    "# loop untuk mencari nilai terbesar\n",
    "for i in nilai_mtk:\n",
    "    if i > terbesar:\n",
    "        terbesar = i\n",
    "# mencetak nilai terbesar\n",
    "print(\"Nilai terbesar Ujian Algoritma dan Struktur Data adalah:\", terbesar)\n",
    "# Output: Nilai terbesar Ujian Algoritma dan Struktur Data adalah 96\n",
    "############################################"
   ]
  }
 ],
 "metadata": {
  "kernelspec": {
   "display_name": "Python 3 (ipykernel)",
   "language": "python",
   "name": "python3"
  },
  "language_info": {
   "codemirror_mode": {
    "name": "ipython",
    "version": 3
   },
   "file_extension": ".py",
   "mimetype": "text/x-python",
   "name": "python",
   "nbconvert_exporter": "python",
   "pygments_lexer": "ipython3",
   "version": "3.9.13"
  }
 },
 "nbformat": 4,
 "nbformat_minor": 5
}
