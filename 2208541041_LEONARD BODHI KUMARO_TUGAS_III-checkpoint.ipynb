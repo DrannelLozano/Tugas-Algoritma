{
 "cells": [
  {
   "cell_type": "markdown",
   "id": "75e0e9c3",
   "metadata": {},
   "source": [
    "# TUGAS III"
   ]
  },
  {
   "cell_type": "markdown",
   "id": "e6dcd441",
   "metadata": {},
   "source": [
    "## Minggu ke III"
   ]
  },
  {
   "cell_type": "markdown",
   "id": "eb0cf3e5",
   "metadata": {},
   "source": [
    "   "
   ]
  },
  {
   "cell_type": "markdown",
   "id": "126519d2",
   "metadata": {},
   "source": [
    "# 5.5 Strings Index"
   ]
  },
  {
   "cell_type": "markdown",
   "id": "c60116c8",
   "metadata": {},
   "source": [
    "Latihan Strings Index"
   ]
  },
  {
   "cell_type": "code",
   "execution_count": 1,
   "id": "986d758a",
   "metadata": {},
   "outputs": [
    {
     "name": "stdout",
     "output_type": "stream",
     "text": [
      "Saya se\n"
     ]
    }
   ],
   "source": [
    "#Pada String Index kita menggunakan kurung siku [] untuk menunjuk karakter yang akan di hasilkan.\n",
    "kelas_41 = 'Saya sedang belajar pemrograman materi string index'\n",
    "#Urutan huruf pertama dimulai dari angka 0, 1, 2 ,3 dan seterusnya\n",
    "#Urutan juga bisa dimulai dari belakang dengan menggunakan tanda negatif\n",
    "print(kelas_41[0:7])"
   ]
  },
  {
   "cell_type": "code",
   "execution_count": 2,
   "id": "b6c54088",
   "metadata": {},
   "outputs": [
    {
     "data": {
      "text/plain": [
       "'Saya seda'"
      ]
     },
     "execution_count": 2,
     "metadata": {},
     "output_type": "execute_result"
    }
   ],
   "source": [
    "kelas_41[0:9]"
   ]
  },
  {
   "cell_type": "code",
   "execution_count": 3,
   "id": "b0096f4b",
   "metadata": {},
   "outputs": [
    {
     "data": {
      "text/plain": [
       "str"
      ]
     },
     "execution_count": 3,
     "metadata": {},
     "output_type": "execute_result"
    }
   ],
   "source": [
    "type(kelas_41)"
   ]
  },
  {
   "cell_type": "code",
   "execution_count": 4,
   "id": "008d9bf6",
   "metadata": {},
   "outputs": [
    {
     "data": {
      "text/plain": [
       "str"
      ]
     },
     "execution_count": 4,
     "metadata": {},
     "output_type": "execute_result"
    }
   ],
   "source": [
    "type(kelas_41[0:9])"
   ]
  },
  {
   "cell_type": "code",
   "execution_count": 6,
   "id": "f073193a",
   "metadata": {},
   "outputs": [
    {
     "data": {
      "text/plain": [
       "str"
      ]
     },
     "execution_count": 6,
     "metadata": {},
     "output_type": "execute_result"
    }
   ],
   "source": [
    "type(str(kelas_41[0:9]))"
   ]
  },
  {
   "cell_type": "code",
   "execution_count": 7,
   "id": "320a597a",
   "metadata": {},
   "outputs": [
    {
     "ename": "NameError",
     "evalue": "name 'string' is not defined",
     "output_type": "error",
     "traceback": [
      "\u001b[1;31m---------------------------------------------------------------------------\u001b[0m",
      "\u001b[1;31mNameError\u001b[0m                                 Traceback (most recent call last)",
      "\u001b[1;32m~\\AppData\\Local\\Temp\\ipykernel_7196\\930361979.py\u001b[0m in \u001b[0;36m<module>\u001b[1;34m\u001b[0m\n\u001b[1;32m----> 1\u001b[1;33m \u001b[0mkelas_41\u001b[0m \u001b[1;33m=\u001b[0m \u001b[0mstring\u001b[0m\u001b[1;33m[\u001b[0m\u001b[1;36m0\u001b[0m\u001b[1;33m]\u001b[0m\u001b[1;33m\u001b[0m\u001b[1;33m\u001b[0m\u001b[0m\n\u001b[0m",
      "\u001b[1;31mNameError\u001b[0m: name 'string' is not defined"
     ]
    }
   ],
   "source": [
    "kelas_41 = string[0]\n",
    "#Ini contoh kode yang salah"
   ]
  },
  {
   "cell_type": "code",
   "execution_count": 9,
   "id": "2c33cf4a",
   "metadata": {},
   "outputs": [
    {
     "name": "stdout",
     "output_type": "stream",
     "text": [
      "\n",
      "x\n",
      "g inde\n",
      "\n",
      "ri string index\n",
      "Saya se\n",
      "dang belajar pemrograman materi string index\n",
      "ang belajar pemrograman materi string index\n"
     ]
    }
   ],
   "source": [
    "#Mencoba mempelajari berbagai letak dari kode yang dibuat\n",
    "print(kelas_41[-1:-7])\n",
    "print(kelas_41[-1:])\n",
    "print(kelas_41[-7:-1])\n",
    "print(kelas_41[-9:0])\n",
    "print(kelas_41[-15:])\n",
    "print(kelas_41[:7])\n",
    "print(kelas_41[7:])\n",
    "print(kelas_41[8:])"
   ]
  },
  {
   "cell_type": "code",
   "execution_count": 10,
   "id": "a8b6b9f7",
   "metadata": {},
   "outputs": [
    {
     "name": "stdout",
     "output_type": "stream",
     "text": [
      "I\n",
      "h\n",
      "d\n"
     ]
    }
   ],
   "source": [
    "my_teks_41 = 'I can show you the world'\n",
    "print(my_teks_41[0]) \n",
    "print(my_teks_41[7])\n",
    "print(my_teks_41[-1])"
   ]
  },
  {
   "cell_type": "code",
   "execution_count": 12,
   "id": "7179a23e",
   "metadata": {},
   "outputs": [
    {
     "name": "stdout",
     "output_type": "stream",
     "text": [
      "gek \n",
      "eerkenalkan nama saya Leonard Bodhi Kumaro, biasa dipanggil Leo. Saya tinggal di daerah Jimbaran tepatnya di jalan goa gong.\n",
      "kP\n",
      " \n",
      "l\n",
      "k\n",
      "g\n"
     ]
    }
   ],
   "source": [
    "#Kita dapat menggabungkan lebih dari 1 string dengan menggunakan tanda '+'\n",
    "my_tek_41 = 'Perkenalkan nama saya Leonard Bodhi Kumaro, biasa dipanggil Leo. Saya tinggal di daerah Jimbaran tepatnya di jalan goa gong.'\n",
    "print(my_tek_41[55]+my_tek_41[1]+my_tek_41[3]+my_tek_41[11]) \n",
    "print(my_tek_41[1]+my_tek_41[1:])\n",
    "print(my_tek_41[3]+my_tek_41[:1])\n",
    "print(my_tek_41[11]) \n",
    "print(my_tek_41[-13])\n",
    "print(my_tek_41[3])\n",
    "print(my_tek_41[-2])"
   ]
  },
  {
   "cell_type": "markdown",
   "id": "5d8ebbfe",
   "metadata": {},
   "source": [
    "# 5.6 Strings Methods"
   ]
  },
  {
   "cell_type": "markdown",
   "id": "39909da4",
   "metadata": {},
   "source": [
    "Latihan Strings Methods"
   ]
  },
  {
   "cell_type": "code",
   "execution_count": 14,
   "id": "fba79ba8",
   "metadata": {},
   "outputs": [
    {
     "name": "stdout",
     "output_type": "stream",
     "text": [
      "124\n"
     ]
    }
   ],
   "source": [
    "my_tek_41 = 'Perkenalkan nama saya Leonard Bodhi Kumaro, biasa dipanggil Leo. Saya tinggal di daerah Jimbaran tepatnya di jalan goa gong.'\n",
    "print(len(my_tek_41))"
   ]
  },
  {
   "cell_type": "code",
   "execution_count": 15,
   "id": "a9bc4953",
   "metadata": {},
   "outputs": [
    {
     "data": {
      "text/plain": [
       "'PERKENALKAN NAMA SAYA LEONARD BODHI KUMARO, BIASA DIPANGGIL LEO. SAYA TINGGAL DI DAERAH JIMBARAN TEPATNYA DI JALAN GOA GONG.'"
      ]
     },
     "execution_count": 15,
     "metadata": {},
     "output_type": "execute_result"
    }
   ],
   "source": [
    "#Merubah kalimat yang di input menjadi huruf kapital\n",
    "my_tek_41.upper()"
   ]
  },
  {
   "cell_type": "code",
   "execution_count": 16,
   "id": "a71b594c",
   "metadata": {},
   "outputs": [
    {
     "data": {
      "text/plain": [
       "'perkenalkan nama saya leonard bodhi kumaro, biasa dipanggil leo. saya tinggal di daerah jimbaran tepatnya di jalan goa gong.'"
      ]
     },
     "execution_count": 16,
     "metadata": {},
     "output_type": "execute_result"
    }
   ],
   "source": [
    "#Merubah kalimat yang di input menjadi huruf kecil\n",
    "my_tek_41.lower()"
   ]
  },
  {
   "cell_type": "code",
   "execution_count": 17,
   "id": "961d72d6",
   "metadata": {},
   "outputs": [
    {
     "data": {
      "text/plain": [
       "12"
      ]
     },
     "execution_count": 17,
     "metadata": {},
     "output_type": "execute_result"
    }
   ],
   "source": [
    "#Mencari kata 'nama' dalam kalimat\n",
    "my_tek_41.find('nama')"
   ]
  },
  {
   "cell_type": "code",
   "execution_count": 18,
   "id": "38729280",
   "metadata": {},
   "outputs": [
    {
     "data": {
      "text/plain": [
       "17"
      ]
     },
     "execution_count": 18,
     "metadata": {},
     "output_type": "execute_result"
    }
   ],
   "source": [
    "#Mencari kata 'saya' dalam kalimat\n",
    "my_tek_41.find('saya')"
   ]
  },
  {
   "cell_type": "code",
   "execution_count": 19,
   "id": "01c663b2",
   "metadata": {},
   "outputs": [
    {
     "name": "stdout",
     "output_type": "stream",
     "text": [
      "True\n"
     ]
    }
   ],
   "source": [
    "#Mencari kata 'Leo' dalam kalimat apakah ada atau tidak\n",
    "print('Leo'in my_tek_41)"
   ]
  },
  {
   "cell_type": "code",
   "execution_count": 20,
   "id": "b22d8252",
   "metadata": {},
   "outputs": [
    {
     "name": "stdout",
     "output_type": "stream",
     "text": [
      "False\n"
     ]
    }
   ],
   "source": [
    "#Mencari kata 'leo' dalam kalimat apakah ada atau tidak\n",
    "print('leo'in my_tek_41)"
   ]
  },
  {
   "cell_type": "markdown",
   "id": "841041ee",
   "metadata": {},
   "source": [
    "# 5.7 Operasi Matematika di Python"
   ]
  },
  {
   "cell_type": "markdown",
   "id": "9b628e53",
   "metadata": {},
   "source": [
    "Latihan Menggunakan Operasi Matematika"
   ]
  },
  {
   "cell_type": "code",
   "execution_count": 22,
   "id": "06df1798",
   "metadata": {},
   "outputs": [
    {
     "name": "stdout",
     "output_type": "stream",
     "text": [
      "9\n",
      "-2\n",
      "21\n",
      "2.5\n",
      "1\n"
     ]
    }
   ],
   "source": [
    "# Penjumlahan\n",
    "print(4+5)\n",
    "# Pengurangan\n",
    "print(6-8)\n",
    "# Perkalian\n",
    "print(3*7)\n",
    "# Pembagian\n",
    "print(15/6)\n",
    "# Modulus\n",
    "print(19%3)"
   ]
  },
  {
   "cell_type": "code",
   "execution_count": 25,
   "id": "c3288ea2",
   "metadata": {},
   "outputs": [
    {
     "name": "stdout",
     "output_type": "stream",
     "text": [
      "30\n",
      "20\n",
      "30\n",
      "10.0\n",
      "2\n"
     ]
    }
   ],
   "source": [
    "a = 10\n",
    "b = 20\n",
    "c = a + b\n",
    "print(c)\n",
    "\n",
    "d = 50\n",
    "e = 30\n",
    "f = d - e\n",
    "print(f) \n",
    "\n",
    "m = 5\n",
    "n = 6\n",
    "o = m * n\n",
    "print(o) \n",
    "\n",
    "p = 100\n",
    "q = 10\n",
    "r = p / q\n",
    "print(r)\n",
    "\n",
    "s = 17\n",
    "t = 5\n",
    "u = s % t\n",
    "print(u) "
   ]
  },
  {
   "cell_type": "markdown",
   "id": "4a3226c1",
   "metadata": {},
   "source": [
    "# 5.8 Operator Perbandingan di Python"
   ]
  },
  {
   "cell_type": "code",
   "execution_count": 23,
   "id": "7c166f98",
   "metadata": {},
   "outputs": [
    {
     "name": "stdout",
     "output_type": "stream",
     "text": [
      "True\n",
      "False\n",
      "False\n",
      "True\n",
      "True\n",
      "False\n"
     ]
    }
   ],
   "source": [
    "pena_41 = 17\n",
    "tinta_41 = 9\n",
    "\n",
    "#Menentukan kebenaran kalimat dengan operasi perbadingan\n",
    "print(pena_41 > tinta_41)  # True, karena 10 lebih besar dari 5\n",
    "print(pena_41 < tinta_41)  # False, karena 10 tidak lebih kecil dari 5\n",
    "print(pena_41 == tinta_41)  # False, karena 10 tidak sama dengan 5\n",
    "print(pena_41 != tinta_41)  # True, karena 10 tidak sama dengan 5\n",
    "print(pena_41 >= tinta_41)  # True, karena 10 lebih besar atau sama dengan 5\n",
    "print(pena_41 <= tinta_41)  # False, karena 10 tidak lebih kecil atau sama dengan 5\n"
   ]
  },
  {
   "cell_type": "markdown",
   "id": "8626c491",
   "metadata": {},
   "source": [
    "# 5.9 Operator Logika di Python"
   ]
  },
  {
   "cell_type": "code",
   "execution_count": 26,
   "id": "dfd779e3",
   "metadata": {},
   "outputs": [
    {
     "name": "stdout",
     "output_type": "stream",
     "text": [
      "Kedua variabel bernilai positif.\n"
     ]
    }
   ],
   "source": [
    "mobil_saya_41 = 5\n",
    "motor_saya_41 = 10\n",
    "if mobil_saya_41 > 0 and motor_saya_41 > 0:\n",
    "    print(\"Kedua variabel bernilai positif.\")\n"
   ]
  },
  {
   "cell_type": "code",
   "execution_count": 27,
   "id": "b2695c02",
   "metadata": {},
   "outputs": [
    {
     "name": "stdout",
     "output_type": "stream",
     "text": [
      "Salah satu atau kedua variabel bernilai positif.\n"
     ]
    }
   ],
   "source": [
    "mobil_saya_41 = 5\n",
    "sepeda_saya_41 = -3\n",
    "if x > 0 or y > 0:\n",
    "    print(\"Salah satu atau kedua variabel bernilai positif.\")\n"
   ]
  },
  {
   "cell_type": "code",
   "execution_count": 31,
   "id": "8d6c3b9d",
   "metadata": {},
   "outputs": [
    {
     "name": "stdout",
     "output_type": "stream",
     "text": [
      "Makan enak adalah True.\n"
     ]
    }
   ],
   "source": [
    "makan_enak_41 = True\n",
    "if not makan_enak_41 :\n",
    "    print(\"Makan enak adalah False.\")\n",
    "else:\n",
    "    print(\"Makan enak adalah True.\")\n"
   ]
  },
  {
   "cell_type": "markdown",
   "id": "c8635d71",
   "metadata": {},
   "source": [
    "# 5.10 Operator if di Python"
   ]
  },
  {
   "cell_type": "code",
   "execution_count": 33,
   "id": "43e7aedf",
   "metadata": {},
   "outputs": [
    {
     "name": "stdout",
     "output_type": "stream",
     "text": [
      "x kurang dari y\n"
     ]
    }
   ],
   "source": [
    "#Menentukan apakah x lebih kecil dari y dengan menggunakan operator if\n",
    "x = 3\n",
    "y = 10\n",
    "\n",
    "if x < y:\n",
    "  print(\"x kurang dari y\")\n"
   ]
  },
  {
   "cell_type": "code",
   "execution_count": null,
   "id": "74da6ce8",
   "metadata": {},
   "outputs": [],
   "source": [
    "#Menentukan apakah x lebih kecil dari y dengan menggunakan operator if dan menambahkan else apabila kondisi if tidak terpenuhi\n",
    "x = 10\n",
    "y = 5\n",
    "\n",
    "if x < y:\n",
    "  print(\"x kurang dari y\")\n",
    "else:\n",
    "  print(\"x lebih besar atau sama dengan y\")\n"
   ]
  }
 ],
 "metadata": {
  "kernelspec": {
   "display_name": "Python 3 (ipykernel)",
   "language": "python",
   "name": "python3"
  },
  "language_info": {
   "codemirror_mode": {
    "name": "ipython",
    "version": 3
   },
   "file_extension": ".py",
   "mimetype": "text/x-python",
   "name": "python",
   "nbconvert_exporter": "python",
   "pygments_lexer": "ipython3",
   "version": "3.9.13"
  }
 },
 "nbformat": 4,
 "nbformat_minor": 5
}
