{
 "cells": [
  {
   "cell_type": "code",
   "execution_count": 1,
   "id": "1e697e8c",
   "metadata": {},
   "outputs": [
    {
     "name": "stdout",
     "output_type": "stream",
     "text": [
      "hallo guys\n"
     ]
    }
   ],
   "source": [
    "print('hallo guys')"
   ]
  },
  {
   "cell_type": "code",
   "execution_count": 2,
   "id": "56d148e9",
   "metadata": {},
   "outputs": [
    {
     "name": "stdout",
     "output_type": "stream",
     "text": [
      "disini saya akan bereksperimen menggunakan kode python\n"
     ]
    }
   ],
   "source": [
    "print(\"disini saya akan bereksperimen menggunakan kode python\")/n\n"
   ]
  },
  {
   "cell_type": "code",
   "execution_count": 3,
   "id": "0afab00c",
   "metadata": {},
   "outputs": [
    {
     "ename": "SyntaxError",
     "evalue": "EOL while scanning string literal (3047580650.py, line 1)",
     "output_type": "error",
     "traceback": [
      "\u001b[1;36m  File \u001b[1;32m\"C:\\Users\\User\\AppData\\Local\\Temp\\ipykernel_8304\\3047580650.py\"\u001b[1;36m, line \u001b[1;32m1\u001b[0m\n\u001b[1;33m    print('disini saya akan bereksperimen menggunakan kode python\")\u001b[0m\n\u001b[1;37m                                                                   ^\u001b[0m\n\u001b[1;31mSyntaxError\u001b[0m\u001b[1;31m:\u001b[0m EOL while scanning string literal\n"
     ]
    }
   ],
   "source": [
    "print('disini saya akan bereksperimen menggunakan kode python\")"
   ]
  },
  {
   "cell_type": "code",
   "execution_count": 26,
   "id": "eacd0e02",
   "metadata": {},
   "outputs": [],
   "source": [
    "#kalau tanda petiknya berbeda itu hasilnya akan eror"
   ]
  },
  {
   "cell_type": "code",
   "execution_count": 8,
   "id": "f5896f7f",
   "metadata": {},
   "outputs": [
    {
     "name": "stdout",
     "output_type": "stream",
     "text": [
      "15000\n",
      "20000\n",
      "10000\n",
      "35000\n",
      "10000\n",
      "150000000\n"
     ]
    }
   ],
   "source": [
    "uang_leo_41 = 15000\n",
    "uang_andy_41 = 20000\n",
    "uang_ani_41 = 10000\n",
    "print(uang_leo_41)\n",
    "print(uang_andy_41)\n",
    "print(uang_ani_41)\n",
    "print(uang_leo_41 + uang_andy_41)\n",
    "print(uang_andy_41 - uang_ani_41)\n",
    "print(uang_leo_41 * uang_ani_41)"
   ]
  },
  {
   "cell_type": "code",
   "execution_count": 9,
   "id": "c2325be0",
   "metadata": {},
   "outputs": [],
   "source": [
    "#diatas saya mencoba print jumlah uang dari masing-masing nama, kemudian mencoba menghitung hasil tambah, kurang, kali"
   ]
  },
  {
   "cell_type": "code",
   "execution_count": 14,
   "id": "b0d69f01",
   "metadata": {},
   "outputs": [
    {
     "name": "stdout",
     "output_type": "stream",
     "text": [
      "Masukkan nama Anda: Leo\n",
      "Promo Spesial buat  Leo hanya di toko kami. Tukarkan sekarang!!!!\n"
     ]
    }
   ],
   "source": [
    "nama = input(\"Masukkan nama Anda: \")\n",
    "print(\"Promo Spesial buat \",nama, \"hanya di toko kami. Tukarkan sekarang!!!!\")"
   ]
  },
  {
   "cell_type": "code",
   "execution_count": 11,
   "id": "9f4db346",
   "metadata": {},
   "outputs": [
    {
     "name": "stdout",
     "output_type": "stream",
     "text": [
      "Masukkan nama Anda: Leo\n",
      "Promo Spesial buat Leo , hanya di toko kami. Tukarkan sekarang!!!!\n"
     ]
    }
   ],
   "source": [
    "#saya mencoba memakai input dengan membuat kode memasukkan nama pelanggan\n",
    "nama = input(\"Masukkan nama Anda: \")\n",
    "print(\"Promo Spesial buat\", nama , \", hanya di toko kami. Tukarkan sekarang!!!!\")"
   ]
  },
  {
   "cell_type": "code",
   "execution_count": 12,
   "id": "7ddba7ca",
   "metadata": {},
   "outputs": [
    {
     "name": "stdout",
     "output_type": "stream",
     "text": [
      "Masukkan nama Anda: Leo\n",
      "Promo Spesial buat Leo , hanya di toko kami. Tukarkan sekarang juga!!!!\n"
     ]
    }
   ],
   "source": [
    "#saya membuat semacam iklan penjualan produk terinsprasi dari iklan toko hijau\n",
    "nama = input(\"Masukkan nama Anda: \")\n",
    "print(\"Promo Spesial buat\", nama ,\", hanya di toko kami. Tukarkan sekarang juga!!!!\")"
   ]
  },
  {
   "cell_type": "code",
   "execution_count": 13,
   "id": "43d3fe79",
   "metadata": {},
   "outputs": [
    {
     "name": "stdout",
     "output_type": "stream",
     "text": [
      "Masukkan nama Anda: Leo\n",
      "Promo Spesial buat Leo , hanya di toko kami. Tukarkan sekarang juga!!!!\n"
     ]
    }
   ],
   "source": [
    "#saya mencoba membetulkan spasi antar kalimat, tetapi di bagian koma belum berhasil\n",
    "nama = input(\"Masukkan nama Anda: \")\n",
    "print(\"Promo Spesial buat\",nama,\", hanya di toko kami. Tukarkan sekarang juga!!!!\")"
   ]
  },
  {
   "cell_type": "code",
   "execution_count": 4,
   "id": "447bff7d",
   "metadata": {},
   "outputs": [
    {
     "name": "stdout",
     "output_type": "stream",
     "text": [
      "Leonard Bodhi Kumaro\n",
      "Leo\n"
     ]
    }
   ],
   "source": [
    "#menginput nama dengan tipe data string\n",
    "nama_41 = 'Leonard Bodhi Kumaro'\n",
    "nama_panggilan_41 = 'Leo'\n",
    "print(nama_41)\n",
    "print(nama_panggilan_41)"
   ]
  },
  {
   "cell_type": "code",
   "execution_count": 6,
   "id": "b61f7dab",
   "metadata": {},
   "outputs": [
    {
     "name": "stdout",
     "output_type": "stream",
     "text": [
      "18\n"
     ]
    }
   ],
   "source": [
    "#menginput usia dengan tipe data integer\n",
    "usia_41 = '18'\n",
    "print(usia_41)"
   ]
  },
  {
   "cell_type": "code",
   "execution_count": 7,
   "id": "de84c79b",
   "metadata": {},
   "outputs": [
    {
     "ename": "SyntaxError",
     "evalue": "invalid syntax (2742531558.py, line 2)",
     "output_type": "error",
     "traceback": [
      "\u001b[1;36m  File \u001b[1;32m\"C:\\Users\\User\\AppData\\Local\\Temp\\ipykernel_4920\\2742531558.py\"\u001b[1;36m, line \u001b[1;32m2\u001b[0m\n\u001b[1;33m    berat_badan_41 = 56 kg\u001b[0m\n\u001b[1;37m                        ^\u001b[0m\n\u001b[1;31mSyntaxError\u001b[0m\u001b[1;31m:\u001b[0m invalid syntax\n"
     ]
    }
   ],
   "source": [
    "#menginput berat badan dengan tipe data float, pada percobaan tersebut error\n",
    "berat_badan_41 = 56 kg\n",
    "print(berat_badan_41)\n"
   ]
  },
  {
   "cell_type": "code",
   "execution_count": 8,
   "id": "d9aa3ad3",
   "metadata": {},
   "outputs": [
    {
     "name": "stdout",
     "output_type": "stream",
     "text": [
      "(56, 5)\n"
     ]
    }
   ],
   "source": [
    "#setelah di run hasil yang diperoleh salah seharusnya menggunakan titik bukan koma\n",
    "berat_badan_41 = 56,5\n",
    "print(berat_badan_41)"
   ]
  },
  {
   "cell_type": "code",
   "execution_count": 9,
   "id": "25d5b6d0",
   "metadata": {},
   "outputs": [
    {
     "name": "stdout",
     "output_type": "stream",
     "text": [
      "56.5\n"
     ]
    }
   ],
   "source": [
    "berat_badan_41 = 56.5\n",
    "print(berat_badan_41)\n"
   ]
  },
  {
   "cell_type": "code",
   "execution_count": 13,
   "id": "03e7ceaa",
   "metadata": {},
   "outputs": [
    {
     "name": "stdout",
     "output_type": "stream",
     "text": [
      "Jumlah baju tidak lebih banyak dari celana\n"
     ]
    }
   ],
   "source": [
    "#menginput pernyataan dengan tipe data boolean\n",
    "jumlah_baju_41 = 15\n",
    "jumlah_celana_41 = 18\n",
    "if jumlah_celana_41 > jumlah_baju_41 :\n",
    "    print(\"Jumlah baju tidak lebih banyak dari celana\")\n",
    "else :\n",
    "    print(\"Jumlah baju lebih banyak dari celana\")"
   ]
  },
  {
   "cell_type": "code",
   "execution_count": 22,
   "id": "1f7449e4",
   "metadata": {},
   "outputs": [
    {
     "name": "stdout",
     "output_type": "stream",
     "text": [
      "Barang yang akan dipesan: Bola Duri.\n",
      "Jumlah barang tersedia: 356 buah\n",
      "Berat Barang: 1.75 kg.\n"
     ]
    }
   ],
   "source": [
    "#mencoba menginput data dengan formatted string\n",
    "nama_barang_41 = \"Bola Duri\"\n",
    "jumlah_barang_41 = 356\n",
    "berat_barang_41 = 1.75\n",
    "\n",
    "print(f\"Barang yang akan dipesan: {nama_barang_41}.\")\n",
    "print(f\"Jumlah barang tersedia: {jumlah_barang_41} buah\")\n",
    "print(f\"Berat Barang: {berat_barang_41}\",\"kg.\")"
   ]
  },
  {
   "cell_type": "code",
   "execution_count": 24,
   "id": "a6c29e6e",
   "metadata": {},
   "outputs": [
    {
     "name": "stdout",
     "output_type": "stream",
     "text": [
      "41\n",
      "ken\n"
     ]
    }
   ],
   "source": [
    "#membuat data yang lebih dari satu, memakai kurung siku\n",
    "nim_41 = [38, 39, 40, 41, 42, 43]\n",
    "nama_41 = [\"andi\", \"mamat\", \"asep\", \"bagas\", \"ken\", \"achi\"]\n",
    "print(nim_41[3])\n",
    "print(nama_41[4])\n"
   ]
  },
  {
   "cell_type": "code",
   "execution_count": 25,
   "id": "956ade4a",
   "metadata": {},
   "outputs": [
    {
     "name": "stdout",
     "output_type": "stream",
     "text": [
      "['andi', 'nicol', 'asep', 'bagas', 'ken', 'achi']\n"
     ]
    }
   ],
   "source": [
    "nama_41[1] = \"nicol\"\n",
    "print(nama_41)"
   ]
  },
  {
   "cell_type": "code",
   "execution_count": 27,
   "id": "675bdc7d",
   "metadata": {},
   "outputs": [
    {
     "name": "stdout",
     "output_type": "stream",
     "text": [
      "Masukkan nama Anda: Leo\n",
      "Masukkan jumlah deposito: 1000000\n",
      "Masukkan suku bunga: 6\n",
      "Masukkan jangka waktu: 12\n"
     ]
    }
   ],
   "source": [
    "#membuat jumlah pendapatan suku bunga deposito\n",
    "nama_41 = input(\"Masukkan nama Anda: \")\n",
    "deposito_41 = input(\"Masukkan jumlah deposito: \")\n",
    "suku_bunga_41 = input(\"Masukkan suku bunga: \")\n",
    "jangka_waktu_41 = input(\"Masukkan jangka waktu: \")\n",
    "\n"
   ]
  },
  {
   "cell_type": "code",
   "execution_count": 28,
   "id": "9c236c1d",
   "metadata": {},
   "outputs": [
    {
     "ename": "TypeError",
     "evalue": "unsupported operand type(s) for /: 'str' and 'int'",
     "output_type": "error",
     "traceback": [
      "\u001b[1;31m---------------------------------------------------------------------------\u001b[0m",
      "\u001b[1;31mTypeError\u001b[0m                                 Traceback (most recent call last)",
      "\u001b[1;32m~\\AppData\\Local\\Temp\\ipykernel_4920\\212775008.py\u001b[0m in \u001b[0;36m<module>\u001b[1;34m\u001b[0m\n\u001b[1;32m----> 1\u001b[1;33m \u001b[0mbunga\u001b[0m \u001b[1;33m=\u001b[0m \u001b[0mdeposito_41\u001b[0m \u001b[1;33m*\u001b[0m \u001b[1;33m(\u001b[0m\u001b[0msuku_bunga_41\u001b[0m\u001b[1;33m/\u001b[0m\u001b[1;36m100\u001b[0m\u001b[1;33m)\u001b[0m \u001b[1;33m*\u001b[0m \u001b[1;33m(\u001b[0m\u001b[0mjangka_waktu_41\u001b[0m\u001b[1;33m/\u001b[0m\u001b[1;36m12\u001b[0m\u001b[1;33m)\u001b[0m\u001b[1;33m\u001b[0m\u001b[1;33m\u001b[0m\u001b[0m\n\u001b[0m",
      "\u001b[1;31mTypeError\u001b[0m: unsupported operand type(s) for /: 'str' and 'int'"
     ]
    }
   ],
   "source": [
    "bunga = deposito_41 * (suku_bunga_41/100) * (jangka_waktu_41/12)"
   ]
  },
  {
   "cell_type": "code",
   "execution_count": 29,
   "id": "19456ba8",
   "metadata": {
    "scrolled": true
   },
   "outputs": [
    {
     "ename": "TypeError",
     "evalue": "unsupported operand type(s) for /: 'str' and 'int'",
     "output_type": "error",
     "traceback": [
      "\u001b[1;31m---------------------------------------------------------------------------\u001b[0m",
      "\u001b[1;31mTypeError\u001b[0m                                 Traceback (most recent call last)",
      "\u001b[1;32m~\\AppData\\Local\\Temp\\ipykernel_4920\\121579409.py\u001b[0m in \u001b[0;36m<module>\u001b[1;34m\u001b[0m\n\u001b[1;32m----> 1\u001b[1;33m \u001b[0mbunga\u001b[0m \u001b[1;33m=\u001b[0m \u001b[0mdeposito_41\u001b[0m \u001b[1;33m*\u001b[0m \u001b[1;33m(\u001b[0m\u001b[0msuku_bunga_41\u001b[0m \u001b[1;33m/\u001b[0m \u001b[1;36m100\u001b[0m\u001b[1;33m)\u001b[0m \u001b[1;33m*\u001b[0m \u001b[1;33m(\u001b[0m\u001b[0mjangka_waktu_41\u001b[0m \u001b[1;33m/\u001b[0m \u001b[1;36m12\u001b[0m\u001b[1;33m)\u001b[0m\u001b[1;33m\u001b[0m\u001b[1;33m\u001b[0m\u001b[0m\n\u001b[0m",
      "\u001b[1;31mTypeError\u001b[0m: unsupported operand type(s) for /: 'str' and 'int'"
     ]
    }
   ],
   "source": [
    "bunga = deposito_41 * (suku_bunga_41 / 100) * (jangka_waktu_41 / 12)"
   ]
  },
  {
   "cell_type": "code",
   "execution_count": 30,
   "id": "eb905e2b",
   "metadata": {},
   "outputs": [
    {
     "name": "stdout",
     "output_type": "stream",
     "text": [
      "Masukkan nama Anda: Leo\n",
      "Masukkan jumlah deposito: 55555\n",
      "Masukkan suku bunga: 7\n",
      "Masukkan jangka waktu: 12\n"
     ]
    },
    {
     "ename": "TypeError",
     "evalue": "unsupported operand type(s) for /: 'str' and 'int'",
     "output_type": "error",
     "traceback": [
      "\u001b[1;31m---------------------------------------------------------------------------\u001b[0m",
      "\u001b[1;31mTypeError\u001b[0m                                 Traceback (most recent call last)",
      "\u001b[1;32m~\\AppData\\Local\\Temp\\ipykernel_4920\\2520065869.py\u001b[0m in \u001b[0;36m<module>\u001b[1;34m\u001b[0m\n\u001b[0;32m      3\u001b[0m \u001b[0msuku_bunga_41\u001b[0m \u001b[1;33m=\u001b[0m \u001b[0minput\u001b[0m\u001b[1;33m(\u001b[0m\u001b[1;34m\"Masukkan suku bunga: \"\u001b[0m\u001b[1;33m)\u001b[0m\u001b[1;33m\u001b[0m\u001b[1;33m\u001b[0m\u001b[0m\n\u001b[0;32m      4\u001b[0m \u001b[0mjangka_waktu_41\u001b[0m \u001b[1;33m=\u001b[0m \u001b[0minput\u001b[0m\u001b[1;33m(\u001b[0m\u001b[1;34m\"Masukkan jangka waktu: \"\u001b[0m\u001b[1;33m)\u001b[0m\u001b[1;33m\u001b[0m\u001b[1;33m\u001b[0m\u001b[0m\n\u001b[1;32m----> 5\u001b[1;33m \u001b[0mbunga\u001b[0m \u001b[1;33m=\u001b[0m \u001b[0mdeposito_41\u001b[0m \u001b[1;33m*\u001b[0m \u001b[1;33m(\u001b[0m\u001b[0msuku_bunga_41\u001b[0m\u001b[1;33m/\u001b[0m\u001b[1;36m100\u001b[0m\u001b[1;33m)\u001b[0m \u001b[1;33m*\u001b[0m \u001b[1;33m(\u001b[0m\u001b[0mjangka_waktu_41\u001b[0m\u001b[1;33m/\u001b[0m\u001b[1;36m12\u001b[0m\u001b[1;33m)\u001b[0m\u001b[1;33m\u001b[0m\u001b[1;33m\u001b[0m\u001b[0m\n\u001b[0m",
      "\u001b[1;31mTypeError\u001b[0m: unsupported operand type(s) for /: 'str' and 'int'"
     ]
    }
   ],
   "source": [
    "#disini masih terjadi error \n",
    "nama_41 = input(\"Masukkan nama Anda: \")\n",
    "deposito_41 = input(\"Masukkan jumlah deposito: \")\n",
    "suku_bunga_41 = input(\"Masukkan suku bunga: \")\n",
    "jangka_waktu_41 = input(\"Masukkan jangka waktu: \")\n",
    "bunga = deposito_41 * (suku_bunga_41/100) * (jangka_waktu_41/12)"
   ]
  },
  {
   "cell_type": "code",
   "execution_count": null,
   "id": "eee3a0cc",
   "metadata": {},
   "outputs": [],
   "source": []
  }
 ],
 "metadata": {
  "kernelspec": {
   "display_name": "Python 3 (ipykernel)",
   "language": "python",
   "name": "python3"
  },
  "language_info": {
   "codemirror_mode": {
    "name": "ipython",
    "version": 3
   },
   "file_extension": ".py",
   "mimetype": "text/x-python",
   "name": "python",
   "nbconvert_exporter": "python",
   "pygments_lexer": "ipython3",
   "version": "3.9.13"
  }
 },
 "nbformat": 4,
 "nbformat_minor": 5
}
