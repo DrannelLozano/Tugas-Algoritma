{
 "cells": [
  {
   "cell_type": "markdown",
   "id": "8ac369e1",
   "metadata": {},
   "source": [
    "# TUGAS V (03/04/2023)"
   ]
  },
  {
   "cell_type": "markdown",
   "id": "50780d0b",
   "metadata": {},
   "source": [
    "# 5.16 List 2 Dimensi"
   ]
  },
  {
   "cell_type": "markdown",
   "id": "71628712",
   "metadata": {},
   "source": [
    "### 5.16.1 Latihan Menggunakan List 2 Dimensi"
   ]
  },
  {
   "cell_type": "markdown",
   "id": "a68a0333",
   "metadata": {},
   "source": [
    "###### List 2 dimensi adalah sebuah struktur data dalam Python yang dapat menyimpan data dalam bentuk tabel dengan baris dan kolom.\n",
    "###### -Untuk membuat list 2 dimensi, kita dapat menggunakan tanda kurung siku [ ] dan memasukkan list dalam list.\n",
    "###### -Untuk mengakses elemen di list 2 dimensi, kita dapat menggunakan indeks baris dan kolom dengan tanda kurung siku.\n",
    "###### -Untuk mengubah nilai elemen di list 2 dimensi, kita dapat menggunakan indeks dan mengganti nilainya.\n",
    "###### -Untuk menambahkan baris baru ke list 2 dimensi, kita dapat menggunakan method append() dan memasukkan list baru ke dalamnya.\n",
    "###### -Untuk menampilkan seluruh elemen di list 2 dimensi, kita dapat menggunakan perulangan for dan mengakses setiap elemen dengan indeks baris dan kolom."
   ]
  },
  {
   "cell_type": "code",
   "execution_count": 3,
   "id": "f521b242",
   "metadata": {},
   "outputs": [
    {
     "name": "stdout",
     "output_type": "stream",
     "text": [
      "[[1, 2, 3, 4], [5, 6, 7, 8], [9, 10, 11, 12], [13, 14, 15, 16]]\n"
     ]
    }
   ],
   "source": [
    "################################################################\n",
    "# Mencetak nilai menggunakan List 2 Dimensi\n",
    "################################################################\n",
    "\n",
    "# membuat list 2 dimensi\n",
    "matrix = [\n",
    "    [1,2,3,4],\n",
    "    [5,6,7,8],\n",
    "    [9,10,11,12],\n",
    "    [13,14,15,16]\n",
    "]\n",
    "# mengakses elemen matrix\n",
    "print(matrix)"
   ]
  },
  {
   "cell_type": "code",
   "execution_count": 5,
   "id": "d91352fe",
   "metadata": {
    "scrolled": true
   },
   "outputs": [
    {
     "data": {
      "text/plain": [
       "[5, 6, 7, 8]"
      ]
     },
     "execution_count": 5,
     "metadata": {},
     "output_type": "execute_result"
    }
   ],
   "source": [
    "# mencoba mengakses elemen di baris ke-2\n",
    "matrix[1]"
   ]
  },
  {
   "cell_type": "code",
   "execution_count": 6,
   "id": "e01c9133",
   "metadata": {},
   "outputs": [
    {
     "data": {
      "text/plain": [
       "6"
      ]
     },
     "execution_count": 6,
     "metadata": {},
     "output_type": "execute_result"
    }
   ],
   "source": [
    "# mencoba mengakses elemen di baris ke-2 kolom ke 2\n",
    "matrix[1][1]"
   ]
  },
  {
   "cell_type": "code",
   "execution_count": 7,
   "id": "9f6aa92d",
   "metadata": {},
   "outputs": [],
   "source": [
    "# membuat pernyataan matrix[2][3]=10\n",
    "matrix[2][3]=10"
   ]
  },
  {
   "cell_type": "code",
   "execution_count": 8,
   "id": "d1c4d0e4",
   "metadata": {},
   "outputs": [
    {
     "name": "stdout",
     "output_type": "stream",
     "text": [
      "10\n"
     ]
    }
   ],
   "source": [
    "# mengakses pernyataan matrix[2][3]=10\n",
    "print(matrix[2][3])"
   ]
  },
  {
   "cell_type": "code",
   "execution_count": 9,
   "id": "aa271a49",
   "metadata": {},
   "outputs": [
    {
     "data": {
      "text/plain": [
       "[[1, 2, 3, 4], [5, 6, 7, 8], [9, 10, 11, 10], [13, 14, 15, 16]]"
      ]
     },
     "execution_count": 9,
     "metadata": {},
     "output_type": "execute_result"
    }
   ],
   "source": [
    "# mengakses matrix\n",
    "matrix"
   ]
  },
  {
   "cell_type": "code",
   "execution_count": 10,
   "id": "55b55fe7",
   "metadata": {},
   "outputs": [
    {
     "name": "stdout",
     "output_type": "stream",
     "text": [
      "[1, 2, 3, 4]\n",
      "1\n",
      "2\n",
      "3\n",
      "4\n",
      "[5, 6, 7, 8]\n",
      "5\n",
      "6\n",
      "7\n",
      "8\n",
      "[9, 10, 11, 10]\n",
      "9\n",
      "10\n",
      "11\n",
      "10\n",
      "[13, 14, 15, 16]\n",
      "13\n",
      "14\n",
      "15\n",
      "16\n"
     ]
    }
   ],
   "source": [
    "# menampilkan seluruh elemen di list 2 dimensi\n",
    "for baris in matrix:\n",
    "    print(baris)\n",
    "    for kolom in baris:\n",
    "        print(kolom)"
   ]
  },
  {
   "cell_type": "markdown",
   "id": "f9d82e96",
   "metadata": {},
   "source": [
    "# 5.17 Tuples"
   ]
  },
  {
   "cell_type": "markdown",
   "id": "8d64c950",
   "metadata": {},
   "source": [
    "### 5.17.1 Latihan Menggunakan Tuples"
   ]
  },
  {
   "cell_type": "markdown",
   "id": "706adb9e",
   "metadata": {},
   "source": [
    "###### Tuple adalah salah satu jenis tipe data di Python yang mirip dengan list, namun tidak dapat diubah setelah dibuat (immutable).\n",
    "###### -Tuple ditandai dengan kurung bulat () dan elemen-elemennya dipisahkan oleh koma.\n",
    "###### -Untuk mengakses elemen dalam tuple, kita dapat menggunakan indeks, sama seperti pada list.\n",
    "###### -Kita juga dapat mencari indeks dari elemen tertentu dalam tuple menggunakan method index().\n",
    "###### -Method count() digunakan untuk menghitung berapa kali elemen tertentu muncul dalam tuple.\n",
    "###### -Kita dapat menggabungkan dua tuple dengan operator +.\n",
    "###### -Untuk mengubah tuple menjadi list, kita dapat menggunakan fungsi list()."
   ]
  },
  {
   "cell_type": "code",
   "execution_count": 18,
   "id": "919ce625",
   "metadata": {},
   "outputs": [],
   "source": [
    "################################################################\n",
    "# Mencetak nilai menggunakan List 2 Dimensi\n",
    "################################################################\n",
    "\n",
    "# membuat tuple dengan beberapa elemen\n",
    "bilangan_41 = (0,1,1,3,4,5)"
   ]
  },
  {
   "cell_type": "code",
   "execution_count": 14,
   "id": "80879c57",
   "metadata": {},
   "outputs": [
    {
     "name": "stdout",
     "output_type": "stream",
     "text": [
      "0\n"
     ]
    }
   ],
   "source": [
    "# mengakses elemen tuple menggunakan indeks\n",
    "print(bilangan_41[0])"
   ]
  },
  {
   "cell_type": "code",
   "execution_count": 13,
   "id": "7a986d3b",
   "metadata": {},
   "outputs": [
    {
     "name": "stdout",
     "output_type": "stream",
     "text": [
      "(0, 1, 1, 3, 4, 5)\n"
     ]
    }
   ],
   "source": [
    "# menampilkan tuple\n",
    "print(bilangan_41)"
   ]
  },
  {
   "cell_type": "code",
   "execution_count": 24,
   "id": "eacb79ec",
   "metadata": {},
   "outputs": [
    {
     "name": "stdout",
     "output_type": "stream",
     "text": [
      "[0, 1, 1]\n"
     ]
    }
   ],
   "source": [
    "# mengakses elemen tuple menggunakan indeks\n",
    "print(bilangan_41[0:3])"
   ]
  },
  {
   "cell_type": "code",
   "execution_count": 75,
   "id": "36a27456",
   "metadata": {},
   "outputs": [
    {
     "name": "stdout",
     "output_type": "stream",
     "text": [
      "0\n",
      "1\n",
      "1\n"
     ]
    }
   ],
   "source": [
    "for isi in bilangan_41[0:3]:\n",
    "    print(isi)"
   ]
  },
  {
   "cell_type": "code",
   "execution_count": 23,
   "id": "e0b75f76",
   "metadata": {
    "scrolled": true
   },
   "outputs": [
    {
     "name": "stdout",
     "output_type": "stream",
     "text": [
      "[0, 1, 1, 3, 4, 5]\n"
     ]
    }
   ],
   "source": [
    "# mengubah tuple menjadi list\n",
    "bilangan_41 = list(bilangan_41)\n",
    "print(bilangan_41)"
   ]
  },
  {
   "cell_type": "code",
   "execution_count": 20,
   "id": "f094ab20",
   "metadata": {},
   "outputs": [
    {
     "data": {
      "text/plain": [
       "0"
      ]
     },
     "execution_count": 20,
     "metadata": {},
     "output_type": "execute_result"
    }
   ],
   "source": [
    "# menghitung berapa kali elemen tertentu muncul dalam tuple\n",
    "bilangan_41.count(2)"
   ]
  },
  {
   "cell_type": "code",
   "execution_count": 21,
   "id": "7fa10a28",
   "metadata": {},
   "outputs": [
    {
     "data": {
      "text/plain": [
       "4"
      ]
     },
     "execution_count": 21,
     "metadata": {},
     "output_type": "execute_result"
    }
   ],
   "source": [
    "# mencari indeks dari elemen tertentu dalam tuple\n",
    "bilangan_41.index(4)"
   ]
  },
  {
   "cell_type": "markdown",
   "id": "a2f5efd7",
   "metadata": {},
   "source": [
    "# 5.18 Dictionaries"
   ]
  },
  {
   "cell_type": "markdown",
   "id": "84fd793f",
   "metadata": {},
   "source": [
    "### 5.18.1 Latihan Menggunakan Dictionaries"
   ]
  },
  {
   "cell_type": "markdown",
   "id": "4ec59b68",
   "metadata": {},
   "source": [
    "###### Dictionaries adalah struktur data yang digunakan untuk menyimpan pasangan key-value.\n",
    "###### -Dalam contoh, kita membuat sebuah dictionary kosong dengan nama data_leo.\n",
    "###### -Kemudian kita menambahkan beberapa elemen ke dalam dictionary.\n",
    "###### -Untuk mengakses elemen dictionary, kita dapat menggunakan syntax data_leo[key]. Jika key tidak ditemukan dalam dictionary, maka akan menghasilkan error.\n",
    "###### -Untuk mengubah nilai elemen dictionary, kita cukup mengakses elemen dengan key yang diinginkan dan mengganti nilai tersebut.\n",
    "###### -Untuk menghapus elemen dictionary, kita dapat menggunakan syntax del data_leo[key]. Di sini, key adalah kunci dari elemen yang ingin dihapus.\n",
    "###### -Untuk menampilkan semua key dan value pada dictionary, kita dapat menggunakan loop for dan syntax data_leo.items(). Di sini, items() adalah method yang digunakan untuk mengambil semua pasangan key-value pada dictionary dan mengembalikannya dalam bentuk tuple."
   ]
  },
  {
   "cell_type": "code",
   "execution_count": 26,
   "id": "6fd0b8a8",
   "metadata": {},
   "outputs": [
    {
     "name": "stdout",
     "output_type": "stream",
     "text": [
      "Leonard Bodhi Kumaro\n"
     ]
    }
   ],
   "source": [
    "# Menambahkan elemen ke dictionary\n",
    "data_leo = {\n",
    "    \"nama\" : \"Leonard Bodhi Kumaro\",\n",
    "    \"umur\" : 19,\n",
    "    \"apakah_angel\" : True\n",
    "}\n",
    "# Mengakses elemen nama dictionary\n",
    "print(data_leo [\"nama\"])"
   ]
  },
  {
   "cell_type": "code",
   "execution_count": 27,
   "id": "8149f30b",
   "metadata": {},
   "outputs": [
    {
     "ename": "KeyError",
     "evalue": "'Nama'",
     "output_type": "error",
     "traceback": [
      "\u001b[1;31m---------------------------------------------------------------------------\u001b[0m",
      "\u001b[1;31mKeyError\u001b[0m                                  Traceback (most recent call last)",
      "\u001b[1;32m~\\AppData\\Local\\Temp\\ipykernel_5360\\2772901019.py\u001b[0m in \u001b[0;36m<module>\u001b[1;34m\u001b[0m\n\u001b[1;32m----> 1\u001b[1;33m \u001b[0mprint\u001b[0m\u001b[1;33m(\u001b[0m\u001b[0mdata_leo\u001b[0m\u001b[1;33m[\u001b[0m\u001b[1;34m\"Nama\"\u001b[0m\u001b[1;33m]\u001b[0m\u001b[1;33m)\u001b[0m\u001b[1;33m\u001b[0m\u001b[1;33m\u001b[0m\u001b[0m\n\u001b[0m",
      "\u001b[1;31mKeyError\u001b[0m: 'Nama'"
     ]
    }
   ],
   "source": [
    "# tidak bisa mengakses elemen dictionary, karena kesalahan menulis huruf kapital\n",
    "print(data_leo[\"Nama\"])"
   ]
  },
  {
   "cell_type": "code",
   "execution_count": 28,
   "id": "07effb32",
   "metadata": {},
   "outputs": [
    {
     "name": "stdout",
     "output_type": "stream",
     "text": [
      "Leonard Bodhi Kumaro\n"
     ]
    }
   ],
   "source": [
    "# Mengakses elemen nama dictionary\n",
    "print(data_leo.get (\"nama\"))"
   ]
  },
  {
   "cell_type": "code",
   "execution_count": 27,
   "id": "98657091",
   "metadata": {},
   "outputs": [
    {
     "name": "stdout",
     "output_type": "stream",
     "text": [
      "None\n"
     ]
    }
   ],
   "source": [
    "# tidak bisa mengakses elemen dictionary, karena kesalahan menulis huruf kapital\n",
    "print(data_leo.get (\"Nama\"))"
   ]
  },
  {
   "cell_type": "code",
   "execution_count": 32,
   "id": "d3c3103a",
   "metadata": {},
   "outputs": [
    {
     "name": "stdout",
     "output_type": "stream",
     "text": [
      "19\n"
     ]
    }
   ],
   "source": [
    "# Mengakses elemen umur dictionary\n",
    "print(data_leo.get (\"umur\"))"
   ]
  },
  {
   "cell_type": "code",
   "execution_count": 31,
   "id": "20ba96ea",
   "metadata": {},
   "outputs": [
    {
     "name": "stdout",
     "output_type": "stream",
     "text": [
      "None\n"
     ]
    }
   ],
   "source": [
    "# tidak bisa mengakses elemen dictionary, karena data belum terinput\n",
    "print(data_leo.get (\"tanggal_lahir\"))"
   ]
  },
  {
   "cell_type": "code",
   "execution_count": 30,
   "id": "022e1f69",
   "metadata": {},
   "outputs": [
    {
     "name": "stdout",
     "output_type": "stream",
     "text": [
      "2-2-2003\n"
     ]
    }
   ],
   "source": [
    "# Menambahkan elemen ke dictionary\n",
    "print(data_leo.get (\"tanggal_lahir\", \"2-2-2003\"))"
   ]
  },
  {
   "cell_type": "code",
   "execution_count": 33,
   "id": "5c69a1cb",
   "metadata": {},
   "outputs": [
    {
     "name": "stdout",
     "output_type": "stream",
     "text": [
      "{'nama': 'Leonard Bodhi Kumaro', 'umur': 19, 'apakah_angel': True}\n"
     ]
    }
   ],
   "source": [
    "print(data_leo)"
   ]
  },
  {
   "cell_type": "code",
   "execution_count": 35,
   "id": "071346aa",
   "metadata": {
    "scrolled": true
   },
   "outputs": [
    {
     "name": "stdout",
     "output_type": "stream",
     "text": [
      "{'nama': 'Leonard Bodhi Kumaro', 'umur': 19, 'apakah_angel': True, 'HP': '087784212952'}\n"
     ]
    }
   ],
   "source": [
    "# Menambahkan elemen nomor HP ke dictionary\n",
    "data_leo['HP'] = '087784212952'\n",
    "print(data_leo)"
   ]
  },
  {
   "cell_type": "code",
   "execution_count": 30,
   "id": "04c6be62",
   "metadata": {},
   "outputs": [
    {
     "name": "stdout",
     "output_type": "stream",
     "text": [
      "{'nama': 'Leonard Bodhi Kumaro', 'umur': 19, 'apakah_angel': True, 'HP': '087784212952'}\n"
     ]
    }
   ],
   "source": [
    "print(data_leo)"
   ]
  },
  {
   "cell_type": "markdown",
   "id": "8c103b89",
   "metadata": {},
   "source": [
    "# 5.19 Fungsi dalam Python"
   ]
  },
  {
   "cell_type": "markdown",
   "id": "c19d7ceb",
   "metadata": {},
   "source": [
    "### 5.19.1 Latihan Menggunakan Fungsi dalam Python"
   ]
  },
  {
   "cell_type": "markdown",
   "id": "41e0b3df",
   "metadata": {},
   "source": [
    "###### def adalah keyword yang digunakan untuk mendefinisikan sebuah fungsi. Setelah itu, diikuti dengan nama fungsi dan parameter yang diperlukan dalam kurung. "
   ]
  },
  {
   "cell_type": "code",
   "execution_count": 37,
   "id": "b5cfb05b",
   "metadata": {},
   "outputs": [],
   "source": [
    "# Fungsi untuk Menampilkan nama lengkap\n",
    "# Mendefinisikan fungsi \"nama lengkap\" dengan dua parameter first_name dan last_name\n",
    "def full_nama(first_name,last_name):\n",
    "    print(f\"Nama lengkap khe adalah {first_name} {last_name}\")"
   ]
  },
  {
   "cell_type": "code",
   "execution_count": 38,
   "id": "5a99f858",
   "metadata": {},
   "outputs": [
    {
     "name": "stdout",
     "output_type": "stream",
     "text": [
      "Nama depan adalah Leo\n",
      "Nama belakang adalah Nardo\n",
      "Nama lengkap khe adalah Leo Nardo\n"
     ]
    }
   ],
   "source": [
    "# Menampilkan nama lengkap\n",
    "first_name = input(\"Nama depan adalah \")\n",
    "last_name = input(\"Nama belakang adalah \")\n",
    "full_nama(first_name,last_name)"
   ]
  },
  {
   "cell_type": "code",
   "execution_count": 42,
   "id": "b6c5e27e",
   "metadata": {},
   "outputs": [
    {
     "name": "stdout",
     "output_type": "stream",
     "text": [
      "5\n"
     ]
    }
   ],
   "source": [
    "# Fungsi untuk menghitung jumlah 2 bilangan\n",
    "# Mendefinisikan fungsi \"jumlah\" dengan dua parameter a dan b\n",
    "def jumlah(a, b):\n",
    "    hasil = a + b\n",
    "# Melakukan operasi penjumlahan antara a dan b, dan menyimpan hasilnya ke dalam variabel \"hasil\"\n",
    "    return hasil\n",
    "# Mengembalikan nilai hasil\n",
    "\n",
    "# Memanggil fungsi \"jumlah\" dengan parameter 2 dan 3\n",
    "print(jumlah(2, 3))"
   ]
  },
  {
   "cell_type": "code",
   "execution_count": 45,
   "id": "438929b1",
   "metadata": {},
   "outputs": [
    {
     "name": "stdout",
     "output_type": "stream",
     "text": [
      "49\n"
     ]
    }
   ],
   "source": [
    "# Fungsi untuk menghitung luas persegi\n",
    "# Mendefinisikan fungsi \"luas_persegi\" \n",
    "def luas_persegi(sisi):\n",
    "    luas = sisi * sisi\n",
    "    return luas\n",
    "luas = luas_persegi(7)\n",
    "print(luas)  "
   ]
  },
  {
   "cell_type": "markdown",
   "id": "9058f1d2",
   "metadata": {},
   "source": [
    "# 5.20 Numpy"
   ]
  },
  {
   "cell_type": "markdown",
   "id": "fca45f8e",
   "metadata": {},
   "source": [
    "### 5.20.1 Latihan Menggunakan Numpy"
   ]
  },
  {
   "cell_type": "markdown",
   "id": "9721e588",
   "metadata": {},
   "source": [
    "###### -Impor NumPy dengan nama alias np.\n",
    "###### -Untuk membuat array satu dimensi, cukup memasukkan nilai ke dalam kurung siku [] dan menggunakan np.array() function untuk mengkonversinya menjadi array NumPy.\n",
    "###### -Untuk membuat array dua dimensi, masukkan nilai ke dalam kurung siku dengan menggunakan dua kurung siku [[]] dan menggunakan np.array() function untuk mengkonversinya menjadi array NumPy.\n",
    "###### -NumPy juga memiliki banyak function untuk membuat array dengan nilai acak, seperti np.random.rand().\n",
    "###### -Operasi matematika seperti penjumlahan dapat dilakukan pada array NumPy.\n",
    "###### -Untuk memanggil elemen pada array, gunakan indeks dalam kurung siku [i, j], dengan i dan j mewakili indeks baris dan kolom."
   ]
  },
  {
   "cell_type": "code",
   "execution_count": 46,
   "id": "f853b6be",
   "metadata": {},
   "outputs": [],
   "source": [
    "import pandas as pd"
   ]
  },
  {
   "cell_type": "code",
   "execution_count": 47,
   "id": "8929d246",
   "metadata": {},
   "outputs": [],
   "source": [
    "import numpy as np"
   ]
  },
  {
   "cell_type": "code",
   "execution_count": 50,
   "id": "e066782e",
   "metadata": {},
   "outputs": [
    {
     "name": "stdout",
     "output_type": "stream",
     "text": [
      "[1 2 3 4 5]\n",
      "[[1 2 3]\n",
      " [4 5 6]]\n",
      "[[0.45788403 0.79448942]\n",
      " [0.67056569 0.45916157]\n",
      " [0.84160247 0.98222665]]\n",
      "[5 7 9]\n",
      "2\n"
     ]
    }
   ],
   "source": [
    "# membuat array satu dimensi\n",
    "nomor_41 = np.array([1, 2, 3, 4, 5])\n",
    "print(nomor_41)  # output: [1 2 3 4 5]\n",
    "\n",
    "# membuat array dua dimensi\n",
    "nomor2_41 = np.array([[1, 2, 3], [4, 5, 6]])\n",
    "print(nomor2_41)\n",
    "\n",
    "# membuat array dengan nilai acak\n",
    "nomor3_41 = np.random.rand(3, 2)\n",
    "print(nomor3_41)\n",
    "\n",
    "# operasi matematika pada array\n",
    "nomor4_41 = np.array([1, 2, 3])\n",
    "nomor5_41 = np.array([4, 5, 6])\n",
    "nomor6_41 = nomor4_41 + nomor5_41\n",
    "print(nomor6_41)  \n",
    "\n",
    "# memanggil elemen pada array\n",
    "print(nomor2_41[0, 1]) \n"
   ]
  },
  {
   "cell_type": "code",
   "execution_count": 52,
   "id": "b1395ba9",
   "metadata": {},
   "outputs": [
    {
     "name": "stdout",
     "output_type": "stream",
     "text": [
      "[[0. 0. 0. 0. 0. 0. 0. 0. 0.]\n",
      " [0. 0. 0. 0. 0. 0. 0. 0. 0.]\n",
      " [0. 0. 0. 0. 0. 0. 0. 0. 0.]\n",
      " [0. 0. 0. 0. 0. 0. 0. 0. 0.]\n",
      " [0. 0. 0. 0. 0. 0. 0. 0. 0.]\n",
      " [0. 0. 0. 0. 0. 0. 0. 0. 0.]\n",
      " [0. 0. 0. 0. 0. 0. 0. 0. 0.]\n",
      " [0. 0. 0. 0. 0. 0. 0. 0. 0.]\n",
      " [0. 0. 0. 0. 0. 0. 0. 0. 0.]]\n"
     ]
    }
   ],
   "source": [
    "# membuat matrix dengan mengunakan Numpy\n",
    "matrix = np.zeros((9, 9))\n",
    "print(matrix)"
   ]
  },
  {
   "cell_type": "markdown",
   "id": "4c1cc03c",
   "metadata": {},
   "source": [
    "#### 5.20.1 Perintah Dasar pada Numpy"
   ]
  },
  {
   "cell_type": "code",
   "execution_count": 3,
   "id": "45266376",
   "metadata": {},
   "outputs": [
    {
     "name": "stdout",
     "output_type": "stream",
     "text": [
      "[1 2 3 4 5 6 7 8 9]\n"
     ]
    }
   ],
   "source": [
    "# contoh membuat array\n",
    "a = np.array([1, 2, 3, 4, 5, 6, 7, 8, 9])\n",
    "print(a)"
   ]
  },
  {
   "cell_type": "code",
   "execution_count": 2,
   "id": "c9187384",
   "metadata": {},
   "outputs": [],
   "source": [
    "import numpy as np"
   ]
  },
  {
   "cell_type": "code",
   "execution_count": 4,
   "id": "54b5797f",
   "metadata": {},
   "outputs": [
    {
     "name": "stdout",
     "output_type": "stream",
     "text": [
      "[[0. 0. 0.]\n",
      " [0. 0. 0.]\n",
      " [0. 0. 0.]]\n"
     ]
    }
   ],
   "source": [
    "# contoh menghasilkan array dengan nilai nol\n",
    "b = np.zeros((3, 3))\n",
    "print(b)"
   ]
  },
  {
   "cell_type": "code",
   "execution_count": 8,
   "id": "5b442332",
   "metadata": {},
   "outputs": [
    {
     "name": "stdout",
     "output_type": "stream",
     "text": [
      "[[1. 1. 1.]\n",
      " [1. 1. 1.]\n",
      " [1. 1. 1.]\n",
      " [1. 1. 1.]\n",
      " [1. 1. 1.]]\n"
     ]
    }
   ],
   "source": [
    "# menghasilkan array dengan nilai satu\n",
    "c = np.ones((5, 3))\n",
    "print(c)"
   ]
  },
  {
   "cell_type": "code",
   "execution_count": 7,
   "id": "bd2b55f0",
   "metadata": {},
   "outputs": [
    {
     "name": "stdout",
     "output_type": "stream",
     "text": [
      "[[0.29631233 0.20643534 0.43141538]\n",
      " [0.68674878 0.72814874 0.66177278]\n",
      " [0.07430832 0.68608895 0.65748631]\n",
      " [0.13282409 0.33292429 0.49259712]]\n"
     ]
    }
   ],
   "source": [
    "# Menghasilkan array dengan nilai acak\n",
    "d = np.random.rand(4, 3)\n",
    "print(d)"
   ]
  },
  {
   "cell_type": "code",
   "execution_count": 10,
   "id": "1f0d30dd",
   "metadata": {},
   "outputs": [
    {
     "name": "stdout",
     "output_type": "stream",
     "text": [
      "3\n"
     ]
    }
   ],
   "source": [
    "# Mengambil elemen pada array\n",
    "e = np.array([1, 2, 3])\n",
    "print(e[2])"
   ]
  },
  {
   "cell_type": "code",
   "execution_count": 11,
   "id": "5ec50aba",
   "metadata": {},
   "outputs": [
    {
     "name": "stdout",
     "output_type": "stream",
     "text": [
      "[2 3 4]\n"
     ]
    }
   ],
   "source": [
    "# Mengambil beberapa elemen pada array\n",
    "f = np.array([1, 2, 3, 4, 5])\n",
    "print(f[1:4])"
   ]
  },
  {
   "cell_type": "code",
   "execution_count": 12,
   "id": "a11c00b0",
   "metadata": {},
   "outputs": [
    {
     "name": "stdout",
     "output_type": "stream",
     "text": [
      "[5 7 9]\n"
     ]
    }
   ],
   "source": [
    "# Operasi matematika pada array\n",
    "g = np.array([1, 2, 3])\n",
    "h = np.array([4, 5, 6])\n",
    "i = g + h\n",
    "print(i)"
   ]
  },
  {
   "cell_type": "markdown",
   "id": "77cf7870",
   "metadata": {},
   "source": [
    "#### 5.20.2 Memanggil Anggota, Kolom dan Baris dengan Numpy"
   ]
  },
  {
   "cell_type": "code",
   "execution_count": 13,
   "id": "a449478a",
   "metadata": {},
   "outputs": [
    {
     "name": "stdout",
     "output_type": "stream",
     "text": [
      "2\n"
     ]
    }
   ],
   "source": [
    "# memanggil elemen pada baris pertama dan kolom kedua dalam array\n",
    "j = np.array([[1, 2], [3, 4]])\n",
    "print(j[0, 1])"
   ]
  },
  {
   "cell_type": "code",
   "execution_count": 14,
   "id": "ff4a85a0",
   "metadata": {},
   "outputs": [
    {
     "name": "stdout",
     "output_type": "stream",
     "text": [
      "[2 4]\n"
     ]
    }
   ],
   "source": [
    "# memanggil kolom kedua dalam array\n",
    "k = np.array([[1, 2], [3, 4]])\n",
    "print(k[:, 1])"
   ]
  },
  {
   "cell_type": "code",
   "execution_count": 15,
   "id": "d5dcdb04",
   "metadata": {},
   "outputs": [
    {
     "name": "stdout",
     "output_type": "stream",
     "text": [
      "[3 4]\n"
     ]
    }
   ],
   "source": [
    "# memanggil baris kedua dalam array\n",
    "l = np.array([[1, 2], [3, 4]])\n",
    "print(l[1, :])"
   ]
  },
  {
   "cell_type": "markdown",
   "id": "cc00d1ae",
   "metadata": {},
   "source": [
    "#### 5.20.3 Matrix pada Numpy"
   ]
  },
  {
   "cell_type": "code",
   "execution_count": 16,
   "id": "9dd2d65e",
   "metadata": {},
   "outputs": [
    {
     "name": "stdout",
     "output_type": "stream",
     "text": [
      "[[0. 0. 0. 0. 0. 0. 0. 0. 0.]\n",
      " [0. 0. 0. 0. 0. 0. 0. 0. 0.]\n",
      " [0. 0. 0. 0. 0. 0. 0. 0. 0.]\n",
      " [0. 0. 0. 0. 0. 0. 0. 0. 0.]\n",
      " [0. 0. 0. 0. 0. 0. 0. 0. 0.]\n",
      " [0. 0. 0. 0. 0. 0. 0. 0. 0.]\n",
      " [0. 0. 0. 0. 0. 0. 0. 0. 0.]\n",
      " [0. 0. 0. 0. 0. 0. 0. 0. 0.]\n",
      " [0. 0. 0. 0. 0. 0. 0. 0. 0.]]\n"
     ]
    }
   ],
   "source": [
    "# membuat matrix dengan mengunakan Numpy\n",
    "matrix = np.zeros((9, 9))\n",
    "print(matrix)"
   ]
  },
  {
   "cell_type": "code",
   "execution_count": 17,
   "id": "160f427e",
   "metadata": {},
   "outputs": [
    {
     "name": "stdout",
     "output_type": "stream",
     "text": [
      "[[1. 0. 0.]\n",
      " [0. 2. 0.]\n",
      " [0. 0. 3.]]\n"
     ]
    }
   ],
   "source": [
    "# membuat matriks kosong 3x3\n",
    "a = np.zeros((3, 3))\n",
    "# mengisi matriks dengan nilai\n",
    "a[0, 0] = 1\n",
    "a[1, 1] = 2\n",
    "a[2, 2] = 3\n",
    "print(a)"
   ]
  },
  {
   "cell_type": "code",
   "execution_count": 18,
   "id": "39607768",
   "metadata": {},
   "outputs": [
    {
     "name": "stdout",
     "output_type": "stream",
     "text": [
      "[[0. 0. 0. ... 0. 0. 0.]\n",
      " [0. 0. 0. ... 0. 0. 0.]\n",
      " [0. 0. 0. ... 0. 0. 0.]\n",
      " ...\n",
      " [0. 0. 0. ... 0. 0. 0.]\n",
      " [0. 0. 0. ... 0. 0. 0.]\n",
      " [0. 0. 0. ... 0. 0. 0.]]\n"
     ]
    }
   ],
   "source": [
    "matrix = np.zeros((55, 55))\n",
    "print(matrix)"
   ]
  },
  {
   "cell_type": "markdown",
   "id": "3fca2bba",
   "metadata": {},
   "source": [
    "#### 5.20.4 Copy pada Numpy"
   ]
  },
  {
   "cell_type": "code",
   "execution_count": 20,
   "id": "1cb4f668",
   "metadata": {},
   "outputs": [
    {
     "name": "stdout",
     "output_type": "stream",
     "text": [
      "[1 2 3]\n",
      "[0 2 3]\n"
     ]
    }
   ],
   "source": [
    "import numpy as np\n",
    "\n",
    "m = np.array([1, 2, 3])\n",
    "n = np.copy(m)\n",
    "\n",
    "n[0] = 0\n",
    "\n",
    "print(m)\n",
    "print(n)"
   ]
  },
  {
   "cell_type": "markdown",
   "id": "12b4662f",
   "metadata": {},
   "source": [
    "#### 5.20.5 Operasi Matematika pada Numpy"
   ]
  },
  {
   "cell_type": "code",
   "execution_count": 22,
   "id": "2c2ade3b",
   "metadata": {},
   "outputs": [
    {
     "name": "stdout",
     "output_type": "stream",
     "text": [
      "[5 7 9]\n",
      "[-3 -3 -3]\n",
      "[ 4 10 18]\n",
      "[0.25 0.4  0.5 ]\n"
     ]
    }
   ],
   "source": [
    "o = np.array([1, 2, 3])\n",
    "q = np.array([4, 5, 6])\n",
    "\n",
    "r = o + q\n",
    "s = o - q\n",
    "t = o * q\n",
    "u = o / q\n",
    "\n",
    "print(r)\n",
    "print(s)\n",
    "print(t)\n",
    "print(u)"
   ]
  },
  {
   "cell_type": "markdown",
   "id": "7088baca",
   "metadata": {},
   "source": [
    "#### 5.20.6 Perkalian Matrik pada Numpy"
   ]
  },
  {
   "cell_type": "code",
   "execution_count": 24,
   "id": "bfed97de",
   "metadata": {},
   "outputs": [
    {
     "name": "stdout",
     "output_type": "stream",
     "text": [
      "[[ 58  64]\n",
      " [139 154]]\n",
      "[[ 58  64]\n",
      " [139 154]]\n"
     ]
    }
   ],
   "source": [
    "# Matriks pertama berukuran 2x3\n",
    "v = np.array([[1, 2, 3], [4, 5, 6]])\n",
    "\n",
    "# Matriks kedua berukuran 3x2\n",
    "w = np.array([[7, 8], [9, 10], [11, 12]])\n",
    "\n",
    "# Perkalian matriks\n",
    "x = np.dot(v, w)\n",
    "y = v @ w\n",
    "\n",
    "print(x)\n",
    "print(y)"
   ]
  },
  {
   "cell_type": "markdown",
   "id": "48d0c43e",
   "metadata": {},
   "source": [
    "#### 5.20.7 min, max dan sum pada Numpy"
   ]
  },
  {
   "cell_type": "code",
   "execution_count": 26,
   "id": "302958c9",
   "metadata": {},
   "outputs": [
    {
     "name": "stdout",
     "output_type": "stream",
     "text": [
      "Array:  [4 2 7 5 1 8]\n",
      "Nilai minimum:  1\n",
      "Nilai maksimum:  8\n",
      "Jumlah:  27\n"
     ]
    }
   ],
   "source": [
    "# Membuat array satu dimensi\n",
    "z = np.array([4, 2, 7, 5, 1, 8])\n",
    "\n",
    "# Mencari nilai minimum, maksimum, dan jumlah\n",
    "min1 = np.min(z)\n",
    "max1 = np.max(z)\n",
    "sum1 = np.sum(z)\n",
    "\n",
    "print(\"Array: \", z)\n",
    "print(\"Nilai minimum: \", min1)\n",
    "print(\"Nilai maksimum: \", max1)\n",
    "print(\"Jumlah: \", sum1)"
   ]
  },
  {
   "cell_type": "code",
   "execution_count": 27,
   "id": "4bf810f3",
   "metadata": {},
   "outputs": [
    {
     "name": "stdout",
     "output_type": "stream",
     "text": [
      "Matriks:\n",
      " [[1 3 5]\n",
      " [2 4 6]]\n",
      "Nilai minimum:  1\n",
      "Nilai maksimum:  6\n",
      "Jumlah:  21\n"
     ]
    }
   ],
   "source": [
    "# Membuat matriks\n",
    "matriks_41 = np.array([[1, 3, 5], [2, 4, 6]])\n",
    "\n",
    "# Mencari nilai minimum, maksimum, dan jumlah\n",
    "min2 = np.min(matriks_41)\n",
    "max2 = np.max(matriks_41)\n",
    "sum2 = np.sum(matriks_41)\n",
    "\n",
    "print(\"Matriks:\\n\", matriks_41)\n",
    "print(\"Nilai minimum: \", min2)\n",
    "print(\"Nilai maksimum: \", max2)\n",
    "print(\"Jumlah: \", sum2)"
   ]
  }
 ],
 "metadata": {
  "kernelspec": {
   "display_name": "Python 3 (ipykernel)",
   "language": "python",
   "name": "python3"
  },
  "language_info": {
   "codemirror_mode": {
    "name": "ipython",
    "version": 3
   },
   "file_extension": ".py",
   "mimetype": "text/x-python",
   "name": "python",
   "nbconvert_exporter": "python",
   "pygments_lexer": "ipython3",
   "version": "3.9.13"
  }
 },
 "nbformat": 4,
 "nbformat_minor": 5
}
